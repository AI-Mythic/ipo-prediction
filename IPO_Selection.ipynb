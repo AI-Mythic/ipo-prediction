{
 "cells": [
  {
   "cell_type": "code",
   "execution_count": 1,
   "id": "46f14e34",
   "metadata": {},
   "outputs": [
    {
     "data": {
      "text/plain": [
       "(453, 6)"
      ]
     },
     "execution_count": 1,
     "metadata": {},
     "output_type": "execute_result"
    }
   ],
   "source": [
    "import pandas as pd\n",
    "df = pd.read_csv('five_year_ipo_data.csv')\n",
    "df.shape"
   ]
  },
  {
   "cell_type": "code",
   "execution_count": 2,
   "id": "2ca9ca73",
   "metadata": {},
   "outputs": [],
   "source": [
    "df[\"Delta\"] = ((df[\"Listing Price\"] - df[\"Issue Price\"]) / df[\"Issue Price\"]) * 100"
   ]
  },
  {
   "cell_type": "code",
   "execution_count": 3,
   "id": "e38ad24a",
   "metadata": {},
   "outputs": [],
   "source": [
    "df = df[df['Delta']<70]"
   ]
  },
  {
   "cell_type": "code",
   "execution_count": 4,
   "id": "b0513b89",
   "metadata": {},
   "outputs": [],
   "source": [
    "low_delta = df[df['Delta'] < -4]\n",
    "high_delta = df[df['Delta'] > 4]"
   ]
  },
  {
   "cell_type": "code",
   "execution_count": null,
   "id": "17788b34",
   "metadata": {},
   "outputs": [],
   "source": [
    "combined_df = pd.concat([low_delta, high_delta])"
   ]
  },
  {
   "cell_type": "code",
   "execution_count": 9,
   "id": "c5da9ef4",
   "metadata": {},
   "outputs": [],
   "source": [
    "combined_df['Target'] = combined_df['Delta'].apply(lambda x: 'No' if x < 0 else 'Yes')"
   ]
  },
  {
   "cell_type": "code",
   "execution_count": 11,
   "id": "db093c1a",
   "metadata": {},
   "outputs": [],
   "source": [
    "combined_df.to_csv('final_ipo_list.csv')"
   ]
  },
  {
   "cell_type": "code",
   "execution_count": 12,
   "id": "4773b6da",
   "metadata": {},
   "outputs": [
    {
     "data": {
      "text/plain": [
       "(259, 8)"
      ]
     },
     "execution_count": 12,
     "metadata": {},
     "output_type": "execute_result"
    }
   ],
   "source": [
    "combined_df.shape"
   ]
  },
  {
   "cell_type": "code",
   "execution_count": null,
   "id": "9f9489bd",
   "metadata": {},
   "outputs": [],
   "source": []
  }
 ],
 "metadata": {
  "kernelspec": {
   "display_name": "Python 3 (ipykernel)",
   "language": "python",
   "name": "python3"
  },
  "language_info": {
   "codemirror_mode": {
    "name": "ipython",
    "version": 3
   },
   "file_extension": ".py",
   "mimetype": "text/x-python",
   "name": "python",
   "nbconvert_exporter": "python",
   "pygments_lexer": "ipython3",
   "version": "3.11.3"
  }
 },
 "nbformat": 4,
 "nbformat_minor": 5
}
